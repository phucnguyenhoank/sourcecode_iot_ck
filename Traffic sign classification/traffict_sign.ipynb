{
 "cells": [
  {
   "cell_type": "code",
   "execution_count": 1,
   "id": "c98b9bc1",
   "metadata": {},
   "outputs": [
    {
     "name": "stdout",
     "output_type": "stream",
     "text": [
      "TensorFlow Version: 2.18.0\n"
     ]
    }
   ],
   "source": [
    "import numpy as np\n",
    "import pandas as pd\n",
    "import matplotlib.pyplot as plt\n",
    "import os\n",
    "from PIL import Image\n",
    "from pathlib import Path\n",
    "from sklearn.model_selection import train_test_split\n",
    "from sklearn.metrics import accuracy_score\n",
    "import tensorflow as tf\n",
    "\n",
    "print(f\"TensorFlow Version: {tf.__version__}\")\n",
    "tf.random.set_seed(42)\n"
   ]
  },
  {
   "cell_type": "code",
   "execution_count": 2,
   "id": "4d698e80",
   "metadata": {},
   "outputs": [],
   "source": [
    "# Constants\n",
    "NUM_CLASSES = 43\n",
    "IMG_SIZE = (30, 30)\n",
    "cur_path = Path.cwd()\n",
    "\n",
    "# Load training data\n",
    "data = []\n",
    "labels = []\n",
    "\n",
    "for i in range(NUM_CLASSES):\n",
    "    folder_path = cur_path / 'train' / str(i)\n",
    "    if not folder_path.exists():\n",
    "        print(f\"Folder {folder_path} not found!\")\n",
    "        continue\n",
    "\n",
    "    for img_name in os.listdir(folder_path):\n",
    "        try:\n",
    "            image = Image.open(folder_path / img_name)\n",
    "            image = image.resize(IMG_SIZE)\n",
    "            data.append(np.array(image))\n",
    "            labels.append(i)\n",
    "        except Exception as e:\n",
    "            print(f\"Error loading image {img_name}: {e}\")\n"
   ]
  },
  {
   "cell_type": "code",
   "execution_count": 3,
   "id": "b92d4cb2",
   "metadata": {},
   "outputs": [
    {
     "name": "stdout",
     "output_type": "stream",
     "text": [
      "Data shape: (39209, 30, 30, 3)\n",
      "Labels shape: (39209,)\n"
     ]
    }
   ],
   "source": [
    "# Convert to numpy arrays\n",
    "data = np.array(data)\n",
    "labels = np.array(labels)\n",
    "print(\"Data shape:\", data.shape)\n",
    "print(\"Labels shape:\", labels.shape)\n"
   ]
  },
  {
   "cell_type": "code",
   "execution_count": 4,
   "id": "51e65065",
   "metadata": {},
   "outputs": [
    {
     "name": "stdout",
     "output_type": "stream",
     "text": [
      "Sample data: [[[ 75  78  80]\n",
      "  [ 74  76  78]\n",
      "  [ 85  86  84]\n",
      "  ...\n",
      "  [ 68  75  74]\n",
      "  [ 65  69  68]\n",
      "  [ 66  67  66]]\n",
      "\n",
      " [[ 83  84  86]\n",
      "  [ 80  80  82]\n",
      "  [ 88  88  83]\n",
      "  ...\n",
      "  [ 73  77  78]\n",
      "  [ 76  78  75]\n",
      "  [ 80  80  78]]\n",
      "\n",
      " [[ 78  78  80]\n",
      "  [ 86  85  86]\n",
      "  [ 90  89  90]\n",
      "  ...\n",
      "  [ 71  74  71]\n",
      "  [ 73  74  69]\n",
      "  [ 78  78  74]]\n",
      "\n",
      " ...\n",
      "\n",
      " [[133 134 139]\n",
      "  [123 127 132]\n",
      "  [112 121 125]\n",
      "  ...\n",
      "  [ 94  95  89]\n",
      "  [ 97  98  91]\n",
      "  [ 99 103  99]]\n",
      "\n",
      " [[ 91  95  99]\n",
      "  [ 91  98 103]\n",
      "  [ 75  86  90]\n",
      "  ...\n",
      "  [104 102  96]\n",
      "  [110 113 104]\n",
      "  [ 96 104  98]]\n",
      "\n",
      " [[ 85  84  87]\n",
      "  [ 95 101 107]\n",
      "  [ 63  76  81]\n",
      "  ...\n",
      "  [103 103  95]\n",
      "  [ 99 102  90]\n",
      "  [ 90  97  89]]]\n",
      "Sample label: 0\n"
     ]
    }
   ],
   "source": [
    "print(\"Sample data:\", data[0])\n",
    "print(\"Sample label:\", labels[0])"
   ]
  },
  {
   "cell_type": "code",
   "execution_count": 5,
   "id": "366f2017",
   "metadata": {},
   "outputs": [],
   "source": [
    "# Train-test split\n",
    "X_train, X_test, y_train, y_test = train_test_split(\n",
    "    data, labels, test_size=0.2, random_state=42\n",
    ")\n",
    "\n",
    "# One-hot encode labels\n",
    "y_train = tf.keras.utils.to_categorical(y_train, NUM_CLASSES)\n",
    "y_test = tf.keras.utils.to_categorical(y_test, NUM_CLASSES)\n",
    "\n",
    "# Normalize image data\n",
    "X_train = X_train.astype('float32') / 255.0\n",
    "X_test = X_test.astype('float32') / 255.0\n"
   ]
  },
  {
   "cell_type": "code",
   "execution_count": 6,
   "id": "c2a90201",
   "metadata": {},
   "outputs": [
    {
     "name": "stderr",
     "output_type": "stream",
     "text": [
      "c:\\Users\\nguye\\anaconda3\\envs\\traffic-sign\\lib\\site-packages\\keras\\src\\layers\\convolutional\\base_conv.py:107: UserWarning: Do not pass an `input_shape`/`input_dim` argument to a layer. When using Sequential models, prefer using an `Input(shape)` object as the first layer in the model instead.\n",
      "  super().__init__(activity_regularizer=activity_regularizer, **kwargs)\n"
     ]
    },
    {
     "name": "stdout",
     "output_type": "stream",
     "text": [
      "Epoch 1/15\n",
      "\u001b[1m981/981\u001b[0m \u001b[32m━━━━━━━━━━━━━━━━━━━━\u001b[0m\u001b[37m\u001b[0m \u001b[1m29s\u001b[0m 27ms/step - accuracy: 0.3615 - loss: 2.3456 - val_accuracy: 0.9598 - val_loss: 0.1469\n",
      "Epoch 2/15\n",
      "\u001b[1m981/981\u001b[0m \u001b[32m━━━━━━━━━━━━━━━━━━━━\u001b[0m\u001b[37m\u001b[0m \u001b[1m24s\u001b[0m 24ms/step - accuracy: 0.9076 - loss: 0.3006 - val_accuracy: 0.9809 - val_loss: 0.0720\n",
      "Epoch 3/15\n",
      "\u001b[1m981/981\u001b[0m \u001b[32m━━━━━━━━━━━━━━━━━━━━\u001b[0m\u001b[37m\u001b[0m \u001b[1m24s\u001b[0m 25ms/step - accuracy: 0.9479 - loss: 0.1785 - val_accuracy: 0.9903 - val_loss: 0.0381\n",
      "Epoch 4/15\n",
      "\u001b[1m981/981\u001b[0m \u001b[32m━━━━━━━━━━━━━━━━━━━━\u001b[0m\u001b[37m\u001b[0m \u001b[1m26s\u001b[0m 27ms/step - accuracy: 0.9616 - loss: 0.1292 - val_accuracy: 0.9917 - val_loss: 0.0303\n",
      "Epoch 5/15\n",
      "\u001b[1m981/981\u001b[0m \u001b[32m━━━━━━━━━━━━━━━━━━━━\u001b[0m\u001b[37m\u001b[0m \u001b[1m25s\u001b[0m 25ms/step - accuracy: 0.9693 - loss: 0.1061 - val_accuracy: 0.9922 - val_loss: 0.0306\n",
      "Epoch 6/15\n",
      "\u001b[1m981/981\u001b[0m \u001b[32m━━━━━━━━━━━━━━━━━━━━\u001b[0m\u001b[37m\u001b[0m \u001b[1m24s\u001b[0m 25ms/step - accuracy: 0.9737 - loss: 0.0963 - val_accuracy: 0.9941 - val_loss: 0.0248\n",
      "Epoch 7/15\n",
      "\u001b[1m981/981\u001b[0m \u001b[32m━━━━━━━━━━━━━━━━━━━━\u001b[0m\u001b[37m\u001b[0m \u001b[1m24s\u001b[0m 24ms/step - accuracy: 0.9769 - loss: 0.0765 - val_accuracy: 0.9936 - val_loss: 0.0234\n",
      "Epoch 8/15\n",
      "\u001b[1m981/981\u001b[0m \u001b[32m━━━━━━━━━━━━━━━━━━━━\u001b[0m\u001b[37m\u001b[0m \u001b[1m23s\u001b[0m 23ms/step - accuracy: 0.9800 - loss: 0.0658 - val_accuracy: 0.9939 - val_loss: 0.0269\n",
      "Epoch 9/15\n",
      "\u001b[1m981/981\u001b[0m \u001b[32m━━━━━━━━━━━━━━━━━━━━\u001b[0m\u001b[37m\u001b[0m \u001b[1m24s\u001b[0m 25ms/step - accuracy: 0.9814 - loss: 0.0629 - val_accuracy: 0.9938 - val_loss: 0.0254\n",
      "Epoch 10/15\n",
      "\u001b[1m981/981\u001b[0m \u001b[32m━━━━━━━━━━━━━━━━━━━━\u001b[0m\u001b[37m\u001b[0m \u001b[1m25s\u001b[0m 25ms/step - accuracy: 0.9797 - loss: 0.0683 - val_accuracy: 0.9964 - val_loss: 0.0204\n",
      "Epoch 11/15\n",
      "\u001b[1m981/981\u001b[0m \u001b[32m━━━━━━━━━━━━━━━━━━━━\u001b[0m\u001b[37m\u001b[0m \u001b[1m24s\u001b[0m 24ms/step - accuracy: 0.9823 - loss: 0.0601 - val_accuracy: 0.9962 - val_loss: 0.0181\n",
      "Epoch 12/15\n",
      "\u001b[1m981/981\u001b[0m \u001b[32m━━━━━━━━━━━━━━━━━━━━\u001b[0m\u001b[37m\u001b[0m \u001b[1m24s\u001b[0m 25ms/step - accuracy: 0.9864 - loss: 0.0487 - val_accuracy: 0.9960 - val_loss: 0.0156\n",
      "Epoch 13/15\n",
      "\u001b[1m981/981\u001b[0m \u001b[32m━━━━━━━━━━━━━━━━━━━━\u001b[0m\u001b[37m\u001b[0m \u001b[1m25s\u001b[0m 25ms/step - accuracy: 0.9859 - loss: 0.0521 - val_accuracy: 0.9962 - val_loss: 0.0174\n",
      "Epoch 14/15\n",
      "\u001b[1m981/981\u001b[0m \u001b[32m━━━━━━━━━━━━━━━━━━━━\u001b[0m\u001b[37m\u001b[0m \u001b[1m24s\u001b[0m 25ms/step - accuracy: 0.9871 - loss: 0.0430 - val_accuracy: 0.9943 - val_loss: 0.0217\n",
      "Epoch 15/15\n",
      "\u001b[1m981/981\u001b[0m \u001b[32m━━━━━━━━━━━━━━━━━━━━\u001b[0m\u001b[37m\u001b[0m \u001b[1m24s\u001b[0m 24ms/step - accuracy: 0.9826 - loss: 0.0584 - val_accuracy: 0.9964 - val_loss: 0.0194\n"
     ]
    },
    {
     "data": {
      "image/png": "[encoded data removed]",
      "text/plain": [
       "<Figure size 640x480 with 1 Axes>"
      ]
     },
     "metadata": {},
     "output_type": "display_data"
    },
    {
     "data": {
      "image/png": "[encoded data removed]",
      "text/plain": [
       "<Figure size 640x480 with 1 Axes>"
      ]
     },
     "metadata": {},
     "output_type": "display_data"
    },
    {
     "name": "stdout",
     "output_type": "stream",
     "text": [
      "\u001b[1m395/395\u001b[0m \u001b[32m━━━━━━━━━━━━━━━━━━━━\u001b[0m\u001b[37m\u001b[0m \u001b[1m4s\u001b[0m 10ms/step\n",
      "Test Accuracy: 97.32%\n"
     ]
    }
   ],
   "source": [
    "\n",
    "# Build model\n",
    "model = tf.keras.Sequential([\n",
    "    # , input_shape=X_train.shape[1:]\n",
    "    tf.keras.Input(shape=X_train.shape[1:]),\n",
    "    tf.keras.layers.Conv2D(32, (5, 5), activation='relu'),\n",
    "    tf.keras.layers.Conv2D(32, (5, 5), activation='relu'),\n",
    "    tf.keras.layers.MaxPooling2D(pool_size=(2, 2)),\n",
    "    tf.keras.layers.Dropout(0.25),\n",
    "\n",
    "    tf.keras.layers.Conv2D(64, (3, 3), activation='relu'),\n",
    "    tf.keras.layers.Conv2D(64, (3, 3), activation='relu'),\n",
    "    tf.keras.layers.MaxPooling2D(pool_size=(2, 2)),\n",
    "    tf.keras.layers.Dropout(0.25),\n",
    "\n",
    "    tf.keras.layers.Flatten(),\n",
    "    tf.keras.layers.Dense(256, activation='relu'),\n",
    "    tf.keras.layers.Dropout(0.5),\n",
    "    tf.keras.layers.Dense(NUM_CLASSES, activation='softmax')\n",
    "])\n",
    "\n",
    "optimizer = tf.keras.optimizers.Adam(learning_rate=0.01)\n",
    "\n",
    "model.compile(\n",
    "    loss='categorical_crossentropy',\n",
    "    optimizer=optimizer,\n",
    "    metrics=['accuracy']\n",
    ")\n",
    "\n",
    "# Train model\n",
    "history = model.fit(\n",
    "    X_train, y_train,\n",
    "    batch_size=32,\n",
    "    epochs=15,\n",
    "    validation_data=(X_test, y_test)\n",
    ")\n",
    "\n",
    "# Save model\n",
    "model.save(\"my_model.keras\")\n",
    "\n",
    "# Plot accuracy\n",
    "plt.figure()\n",
    "plt.plot(history.history['accuracy'], label='Train Accuracy')\n",
    "plt.plot(history.history['val_accuracy'], label='Val Accuracy')\n",
    "plt.title('Model Accuracy')\n",
    "plt.xlabel('Epoch')\n",
    "plt.ylabel('Accuracy')\n",
    "plt.legend()\n",
    "plt.show()\n",
    "\n",
    "# Plot loss\n",
    "plt.figure()\n",
    "plt.plot(history.history['loss'], label='Train Loss')\n",
    "plt.plot(history.history['val_loss'], label='Val Loss')\n",
    "plt.title('Model Loss')\n",
    "plt.xlabel('Epoch')\n",
    "plt.ylabel('Loss')\n",
    "plt.legend()\n",
    "plt.show()\n",
    "\n"
   ]
  },
  {
   "cell_type": "code",
   "execution_count": 7,
   "id": "7b48e1e0",
   "metadata": {},
   "outputs": [
    {
     "name": "stdout",
     "output_type": "stream",
     "text": [
      "\u001b[1m395/395\u001b[0m \u001b[32m━━━━━━━━━━━━━━━━━━━━\u001b[0m\u001b[37m\u001b[0m \u001b[1m4s\u001b[0m 9ms/step\n",
      "Test Accuracy: 97.32%\n"
     ]
    }
   ],
   "source": [
    "\n",
    "# Load test data\n",
    "test_df = pd.read_csv('Test.csv')\n",
    "true_labels = test_df[\"ClassId\"].values\n",
    "image_paths = test_df[\"Path\"].values\n",
    "\n",
    "test_data = []\n",
    "for img_path in image_paths:\n",
    "    try:\n",
    "        image = Image.open(img_path)\n",
    "        image = image.resize(IMG_SIZE)\n",
    "        test_data.append(np.array(image))\n",
    "    except Exception as e:\n",
    "        print(f\"Error loading test image {img_path}: {e}\")\n",
    "\n",
    "X_final_test = np.array(test_data).astype('float32') / 255.0\n",
    "\n",
    "# Predict and evaluate\n",
    "predictions = model.predict(X_final_test)\n",
    "predicted_labels = np.argmax(predictions, axis=1)\n",
    "\n",
    "accuracy = accuracy_score(true_labels, predicted_labels)\n",
    "print(f\"Test Accuracy: {accuracy * 100:.2f}%\")"
   ]
  },
  {
   "cell_type": "code",
   "execution_count": null,
   "id": "e761dae8",
   "metadata": {},
   "outputs": [],
   "source": []
  }
 ],
 "metadata": {
  "kernelspec": {
   "display_name": "traffic-sign",
   "language": "python",
   "name": "python3"
  },
  "language_info": {
   "codemirror_mode": {
    "name": "ipython",
    "version": 3
   },
   "file_extension": ".py",
   "mimetype": "text/x-python",
   "name": "python",
   "nbconvert_exporter": "python",
   "pygments_lexer": "ipython3",
   "version": "3.10.17"
  }
 },
 "nbformat": 4,
 "nbformat_minor": 5
}
